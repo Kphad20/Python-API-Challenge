{
 "cells": [
  {
   "cell_type": "markdown",
   "metadata": {},
   "source": [
    "# WeatherPy\n",
    "----\n",
    "* Of this randomly selected world cities, temperature is most correlated to the latitudinal locations of cities. The farther away a city is from the Equator, the colder they are and vice versa. \n",
    "* The mean temperature of the random sample is 71 degrees (F). \n",
    "* Weather variables such as humidity, cloudiness and wind speed have little to no correlation to a city's latitudinal location.\n",
    "* The hemisphere in which a city is located also has little to no correlation to weather, with the exception of temperature. "
   ]
  },
  {
   "cell_type": "code",
   "execution_count": 1,
   "metadata": {
    "scrolled": true
   },
   "outputs": [],
   "source": [
    "# Dependencies and Setup\n",
    "import matplotlib.pyplot as plt\n",
    "import pandas as pd\n",
    "import numpy as np\n",
    "import requests\n",
    "import time\n",
    "from scipy.stats import linregress\n",
    "\n",
    "# Import API key\n",
    "from api_keys import weather_api_key\n",
    "\n",
    "# Incorporated citipy to determine city based on latitude and longitude\n",
    "from citipy import citipy\n",
    "\n",
    "# Output File (CSV)\n",
    "output_data_file = \"world_cities.csv\"\n",
    "\n",
    "# Range of latitudes and longitudes\n",
    "lat_range = (-90, 90)\n",
    "lng_range = (-180, 180)"
   ]
  },
  {
   "cell_type": "markdown",
   "metadata": {},
   "source": [
    "## Generate Cities List"
   ]
  },
  {
   "cell_type": "code",
   "execution_count": 2,
   "metadata": {},
   "outputs": [
    {
     "data": {
      "text/plain": [
       "643"
      ]
     },
     "execution_count": 2,
     "metadata": {},
     "output_type": "execute_result"
    }
   ],
   "source": [
    "# List for holding lat_lngs and cities\n",
    "lat_lngs = []\n",
    "cities = []\n",
    "\n",
    "# Create a set of random lat and lng combinations\n",
    "lats = np.random.uniform(lat_range[0], lat_range[1], size=1500)\n",
    "lngs = np.random.uniform(lng_range[0], lng_range[1], size=1500)\n",
    "lat_lngs = zip(lats, lngs)\n",
    "\n",
    "# Identify nearest city for each lat, lng combination\n",
    "for lat_lng in lat_lngs:\n",
    "    city = citipy.nearest_city(lat_lng[0], lat_lng[1]).city_name\n",
    "    \n",
    "    # If the city is unique, then add it to a our cities list\n",
    "    if city not in cities:\n",
    "        cities.append(city)\n",
    "\n",
    "# Print the city count to confirm sufficient count\n",
    "len(cities)"
   ]
  },
  {
   "cell_type": "markdown",
   "metadata": {},
   "source": [
    "### Perform API Calls\n",
    "* Perform a weather check on each city using a series of successive API calls.\n",
    "* Include a print log of each city as it'sbeing processed (with the city number and city name).\n"
   ]
  },
  {
   "cell_type": "code",
   "execution_count": 3,
   "metadata": {},
   "outputs": [],
   "source": [
    "# Build query URL and request results in Fahrenheit.\n",
    "url = \"http://api.openweathermap.org/data/2.5/weather?\"\n",
    "units = \"Imperial\"        \n",
    "query_url = f\"{url}appid={weather_api_key}&units={units}&q=\""
   ]
  },
  {
   "cell_type": "code",
   "execution_count": 4,
   "metadata": {
    "scrolled": false
   },
   "outputs": [
    {
     "name": "stdout",
     "output_type": "stream",
     "text": [
      "Beginning data retrieval for each city\n",
      "--------------------------------------\n",
      "Retrieving results for record 1 | methoni\n",
      "Retrieving results for record 2 | hermanus\n",
      "Retrieving results for record 3 | jamestown\n",
      "Retrieving results for record 4 | upernavik\n",
      "Retrieving results for record 5 | albany\n",
      "Retrieving results for record 6 | mataura\n",
      "Retrieving results for record 7 | khatanga\n",
      "City not found...skipping.\n",
      "Retrieving results for record 8 | rikitea\n",
      "Retrieving results for record 9 | busselton\n",
      "Retrieving results for record 10 | nikolskoye\n",
      "Retrieving results for record 11 | careiro da varzea\n",
      "Retrieving results for record 12 | sakakah\n",
      "City not found...skipping.\n",
      "Retrieving results for record 13 | bandar\n",
      "Retrieving results for record 14 | chuy\n",
      "Retrieving results for record 15 | senno\n",
      "Retrieving results for record 16 | mahebourg\n",
      "Retrieving results for record 17 | zhigansk\n",
      "Retrieving results for record 18 | bluff\n",
      "Retrieving results for record 19 | karratha\n",
      "Retrieving results for record 20 | aklavik\n",
      "Retrieving results for record 21 | klaksvik\n",
      "Retrieving results for record 22 | port-gentil\n",
      "Retrieving results for record 23 | yerbogachen\n",
      "Retrieving results for record 24 | karakol\n",
      "Retrieving results for record 25 | clyde river\n",
      "Retrieving results for record 26 | bilma\n",
      "Retrieving results for record 27 | westport\n",
      "Retrieving results for record 28 | rawson\n",
      "Retrieving results for record 29 | chokurdakh\n",
      "Retrieving results for record 30 | qaanaaq\n",
      "Retrieving results for record 31 | berga\n",
      "Retrieving results for record 32 | talnakh\n",
      "Retrieving results for record 33 | ushuaia\n",
      "Retrieving results for record 34 | alta floresta\n",
      "City not found...skipping.\n",
      "Retrieving results for record 35 | pangnirtung\n",
      "Retrieving results for record 36 | beloha\n",
      "Retrieving results for record 37 | vila velha\n",
      "Retrieving results for record 38 | atuona\n",
      "Retrieving results for record 39 | cidreira\n",
      "Retrieving results for record 40 | malanje\n",
      "Retrieving results for record 41 | cape town\n",
      "Retrieving results for record 42 | port hardy\n",
      "Retrieving results for record 43 | ust-tsilma\n",
      "Retrieving results for record 44 | port alfred\n",
      "Retrieving results for record 45 | wewak\n",
      "Retrieving results for record 46 | bubaque\n",
      "Retrieving results for record 47 | mikkeli\n",
      "Retrieving results for record 48 | alofi\n",
      "Retrieving results for record 49 | guane\n",
      "Retrieving results for record 50 | santiago del estero\n",
      "Retrieving results for record 51 | fairbanks\n",
      "Retrieving results for record 52 | saint george\n",
      "Retrieving results for record 53 | mbandaka\n",
      "Retrieving results for record 54 | tiksi\n",
      "Retrieving results for record 55 | puerto ayora\n",
      "Retrieving results for record 56 | la ronge\n",
      "Retrieving results for record 57 | nouakchott\n",
      "Retrieving results for record 58 | isangel\n",
      "Retrieving results for record 59 | griffith\n",
      "Retrieving results for record 60 | ribeira grande\n",
      "Retrieving results for record 61 | gat\n",
      "Retrieving results for record 62 | saint-jovite\n",
      "Retrieving results for record 63 | hambantota\n",
      "Retrieving results for record 64 | punta arenas\n",
      "Retrieving results for record 65 | baykit\n",
      "Retrieving results for record 66 | qidong\n",
      "Retrieving results for record 67 | tzucacab\n",
      "Retrieving results for record 68 | tsuruoka\n",
      "Retrieving results for record 69 | kashi\n",
      "Retrieving results for record 70 | mildura\n",
      "Retrieving results for record 71 | gidam\n",
      "Retrieving results for record 72 | avarua\n",
      "Retrieving results for record 73 | mount gambier\n",
      "Retrieving results for record 74 | steamboat springs\n",
      "Retrieving results for record 75 | jalu\n",
      "Retrieving results for record 76 | haverfordwest\n",
      "Retrieving results for record 77 | coihaique\n",
      "Retrieving results for record 78 | vallenar\n",
      "Retrieving results for record 79 | coquimbo\n",
      "City not found...skipping.\n",
      "Retrieving results for record 80 | kailua\n",
      "City not found...skipping.\n",
      "Retrieving results for record 81 | sterling\n",
      "Retrieving results for record 82 | tripoli\n",
      "Retrieving results for record 83 | yellowknife\n",
      "Retrieving results for record 84 | porkhov\n",
      "Retrieving results for record 85 | bredasdorp\n",
      "Retrieving results for record 86 | faanui\n",
      "Retrieving results for record 87 | sudzha\n",
      "City not found...skipping.\n",
      "Retrieving results for record 88 | kissidougou\n",
      "Retrieving results for record 89 | port elizabeth\n",
      "Retrieving results for record 90 | atar\n",
      "Retrieving results for record 91 | vaini\n",
      "Retrieving results for record 92 | helong\n",
      "Retrieving results for record 93 | east london\n",
      "Retrieving results for record 94 | cubuk\n",
      "Retrieving results for record 95 | kruisfontein\n",
      "Retrieving results for record 96 | hilo\n",
      "Retrieving results for record 97 | morant bay\n",
      "Retrieving results for record 98 | sao filipe\n",
      "Retrieving results for record 99 | kosh-agach\n",
      "Retrieving results for record 100 | tuktoyaktuk\n",
      "City not found...skipping.\n",
      "Retrieving results for record 101 | victoria\n",
      "Retrieving results for record 102 | richards bay\n",
      "Retrieving results for record 103 | kapaa\n",
      "Retrieving results for record 104 | sulangan\n",
      "Retrieving results for record 105 | tuatapere\n",
      "Retrieving results for record 106 | tamandare\n",
      "Retrieving results for record 107 | taywarah\n",
      "Retrieving results for record 108 | lasa\n",
      "Retrieving results for record 109 | lucea\n",
      "Retrieving results for record 110 | saskatoon\n",
      "Retrieving results for record 111 | princeton\n",
      "Retrieving results for record 112 | thompson\n",
      "City not found...skipping.\n",
      "Retrieving results for record 113 | agadez\n",
      "Retrieving results for record 114 | ancud\n",
      "Retrieving results for record 115 | port keats\n",
      "Retrieving results for record 116 | vardo\n",
      "Retrieving results for record 117 | lebu\n",
      "Retrieving results for record 118 | port blair\n",
      "Retrieving results for record 119 | camacha\n",
      "Retrieving results for record 120 | kavaratti\n",
      "Retrieving results for record 121 | saint-philippe\n",
      "Retrieving results for record 122 | yulara\n",
      "Retrieving results for record 123 | dingle\n",
      "Retrieving results for record 124 | sur\n",
      "Retrieving results for record 125 | hobart\n",
      "Retrieving results for record 126 | iqaluit\n",
      "Retrieving results for record 127 | cairns\n",
      "Retrieving results for record 128 | hirado\n",
      "Retrieving results for record 129 | new norfolk\n",
      "City not found...skipping.\n",
      "Retrieving results for record 130 | touros\n",
      "City not found...skipping.\n",
      "Retrieving results for record 131 | sambava\n",
      "Retrieving results for record 132 | kirakira\n",
      "Retrieving results for record 133 | sioux lookout\n",
      "Retrieving results for record 134 | moerai\n",
      "City not found...skipping.\n",
      "Retrieving results for record 135 | alice springs\n",
      "Retrieving results for record 136 | cancun\n",
      "Retrieving results for record 137 | labuhan\n",
      "Retrieving results for record 138 | zhangye\n",
      "Retrieving results for record 139 | mantua\n",
      "Retrieving results for record 140 | barrow\n",
      "Retrieving results for record 141 | turukhansk\n",
      "Retrieving results for record 142 | saint-pierre\n",
      "Retrieving results for record 143 | ballina\n",
      "Retrieving results for record 144 | leningradskiy\n",
      "Retrieving results for record 145 | vicuna\n",
      "Retrieving results for record 146 | dudinka\n",
      "Retrieving results for record 147 | cotusca\n",
      "Retrieving results for record 148 | praia\n",
      "Retrieving results for record 149 | lyaskelya\n",
      "Retrieving results for record 150 | cherskiy\n",
      "City not found...skipping.\n",
      "Retrieving results for record 151 | porto novo\n",
      "Retrieving results for record 152 | bitung\n",
      "City not found...skipping.\n",
      "Retrieving results for record 153 | bengkulu\n",
      "Retrieving results for record 154 | saldanha\n",
      "Retrieving results for record 155 | asyut\n",
      "Retrieving results for record 156 | provideniya\n",
      "Retrieving results for record 157 | guerrero negro\n",
      "Retrieving results for record 158 | novhorodka\n",
      "Retrieving results for record 159 | castro\n",
      "Retrieving results for record 160 | dikson\n",
      "Retrieving results for record 161 | ha tinh\n",
      "Retrieving results for record 162 | gwadar\n",
      "Retrieving results for record 163 | wanning\n",
      "Retrieving results for record 164 | naryan-mar\n",
      "Retrieving results for record 165 | souillac\n",
      "Retrieving results for record 166 | olafsvik\n",
      "Retrieving results for record 167 | carnarvon\n",
      "Retrieving results for record 168 | andros town\n",
      "Retrieving results for record 169 | mound\n",
      "Retrieving results for record 170 | fallon\n",
      "Retrieving results for record 171 | kodiak\n",
      "Retrieving results for record 172 | snasa\n",
      "Retrieving results for record 173 | teacapan\n",
      "Retrieving results for record 174 | pevek\n",
      "Retrieving results for record 175 | saskylakh\n"
     ]
    },
    {
     "name": "stdout",
     "output_type": "stream",
     "text": [
      "Retrieving results for record 176 | salalah\n",
      "Retrieving results for record 177 | kualakapuas\n",
      "Retrieving results for record 178 | mundo nuevo\n",
      "Retrieving results for record 179 | codrington\n",
      "Retrieving results for record 180 | gorontalo\n",
      "Retrieving results for record 181 | saint anthony\n",
      "Retrieving results for record 182 | yar-sale\n",
      "Retrieving results for record 183 | ust-kuyga\n",
      "Retrieving results for record 184 | manono\n",
      "City not found...skipping.\n",
      "Retrieving results for record 185 | mandalgovi\n",
      "Retrieving results for record 186 | batagay-alyta\n",
      "Retrieving results for record 187 | klaeng\n",
      "Retrieving results for record 188 | akyab\n",
      "Retrieving results for record 189 | pronsk\n",
      "Retrieving results for record 190 | bulgan\n",
      "Retrieving results for record 191 | mnogovershinnyy\n",
      "Retrieving results for record 192 | longyearbyen\n",
      "Retrieving results for record 193 | seryshevo\n",
      "City not found...skipping.\n",
      "Retrieving results for record 194 | abonnema\n",
      "City not found...skipping.\n",
      "Retrieving results for record 195 | kismayo\n",
      "Retrieving results for record 196 | alihe\n",
      "Retrieving results for record 197 | srednekolymsk\n",
      "Retrieving results for record 198 | kearney\n",
      "Retrieving results for record 199 | kudahuvadhoo\n",
      "Retrieving results for record 200 | tromso\n",
      "Retrieving results for record 201 | lagoa\n",
      "Retrieving results for record 202 | butaritari\n",
      "Retrieving results for record 203 | aloleng\n",
      "Retrieving results for record 204 | kuloy\n",
      "Retrieving results for record 205 | matamoros\n",
      "Retrieving results for record 206 | port lincoln\n",
      "Retrieving results for record 207 | qasigiannguit\n",
      "Retrieving results for record 208 | hithadhoo\n",
      "Retrieving results for record 209 | sri aman\n",
      "Retrieving results for record 210 | oriximina\n",
      "Retrieving results for record 211 | axim\n",
      "Retrieving results for record 212 | corinto\n",
      "Retrieving results for record 213 | presidente bernardes\n",
      "Retrieving results for record 214 | muzhi\n",
      "Retrieving results for record 215 | joao pinheiro\n",
      "Retrieving results for record 216 | korla\n",
      "Retrieving results for record 217 | abeche\n",
      "Retrieving results for record 218 | manggar\n",
      "Retrieving results for record 219 | liaozhong\n",
      "City not found...skipping.\n",
      "Retrieving results for record 220 | payakumbuh\n",
      "Retrieving results for record 221 | balkhash\n",
      "Retrieving results for record 222 | phan thiet\n",
      "Retrieving results for record 223 | praia da vitoria\n",
      "Retrieving results for record 224 | vao\n",
      "Retrieving results for record 225 | poum\n",
      "Retrieving results for record 226 | hasaki\n",
      "Retrieving results for record 227 | saurimo\n",
      "Retrieving results for record 228 | bethel\n",
      "Retrieving results for record 229 | arlit\n",
      "Retrieving results for record 230 | terrace\n",
      "Retrieving results for record 231 | kardla\n",
      "Retrieving results for record 232 | bathsheba\n",
      "Retrieving results for record 233 | nouadhibou\n",
      "Retrieving results for record 234 | ixtapa\n",
      "City not found...skipping.\n",
      "Retrieving results for record 235 | derzhavinsk\n",
      "Retrieving results for record 236 | esperance\n",
      "Retrieving results for record 237 | puerto suarez\n",
      "Retrieving results for record 238 | tupik\n",
      "Retrieving results for record 239 | torbay\n",
      "Retrieving results for record 240 | tokur\n",
      "Retrieving results for record 241 | sorland\n",
      "Retrieving results for record 242 | sinnamary\n",
      "Retrieving results for record 243 | kahului\n",
      "Retrieving results for record 244 | pangkalanbuun\n",
      "Retrieving results for record 245 | starodub\n",
      "Retrieving results for record 246 | bang saphan\n",
      "Retrieving results for record 247 | bom jesus\n",
      "Retrieving results for record 248 | tura\n",
      "Retrieving results for record 249 | victor harbor\n",
      "City not found...skipping.\n",
      "Retrieving results for record 250 | mogadishu\n",
      "Retrieving results for record 251 | oktyabrskiy\n",
      "Retrieving results for record 252 | viedma\n",
      "City not found...skipping.\n",
      "Retrieving results for record 253 | mathathane\n",
      "Retrieving results for record 254 | dzilam gonzalez\n",
      "Retrieving results for record 255 | rocha\n",
      "Retrieving results for record 256 | constitucion\n",
      "Retrieving results for record 257 | kainantu\n",
      "Retrieving results for record 258 | bilibino\n",
      "Retrieving results for record 259 | bursa\n",
      "Retrieving results for record 260 | kungurtug\n",
      "Retrieving results for record 261 | ulaangom\n",
      "Retrieving results for record 262 | chenghai\n",
      "Retrieving results for record 263 | anadyr\n",
      "Retrieving results for record 264 | geraldton\n",
      "Retrieving results for record 265 | maler kotla\n",
      "Retrieving results for record 266 | georgetown\n",
      "Retrieving results for record 267 | havoysund\n",
      "Retrieving results for record 268 | grand gaube\n",
      "Retrieving results for record 269 | rosamorada\n",
      "Retrieving results for record 270 | lompoc\n",
      "Retrieving results for record 271 | tete\n",
      "Retrieving results for record 272 | inuvik\n",
      "Retrieving results for record 273 | flin flon\n",
      "City not found...skipping.\n",
      "Retrieving results for record 274 | barth\n",
      "Retrieving results for record 275 | kavieng\n",
      "Retrieving results for record 276 | along\n",
      "Retrieving results for record 277 | airai\n",
      "Retrieving results for record 278 | gornyy\n",
      "Retrieving results for record 279 | akdepe\n",
      "Retrieving results for record 280 | mount isa\n",
      "Retrieving results for record 281 | abu samrah\n",
      "Retrieving results for record 282 | launceston\n",
      "Retrieving results for record 283 | samarai\n",
      "Retrieving results for record 284 | harper\n",
      "Retrieving results for record 285 | khandyga\n",
      "Retrieving results for record 286 | sao felix do xingu\n",
      "City not found...skipping.\n",
      "Retrieving results for record 287 | butembo\n",
      "Retrieving results for record 288 | cabo san lucas\n",
      "Retrieving results for record 289 | xichang\n",
      "Retrieving results for record 290 | jimo\n",
      "Retrieving results for record 291 | okhotsk\n",
      "Retrieving results for record 292 | qesarya\n",
      "Retrieving results for record 293 | ati\n",
      "Retrieving results for record 294 | jijiga\n",
      "Retrieving results for record 295 | hamilton\n",
      "Retrieving results for record 296 | goderich\n",
      "Retrieving results for record 297 | port macquarie\n",
      "City not found...skipping.\n",
      "Retrieving results for record 298 | minab\n",
      "Retrieving results for record 299 | kawalu\n",
      "Retrieving results for record 300 | eyl\n",
      "Retrieving results for record 301 | mercedes\n",
      "Retrieving results for record 302 | sibolga\n",
      "Retrieving results for record 303 | mar del plata\n",
      "Retrieving results for record 304 | kaliua\n",
      "Retrieving results for record 305 | mpika\n",
      "Retrieving results for record 306 | welzheim\n",
      "Retrieving results for record 307 | belyy yar\n",
      "Retrieving results for record 308 | umm lajj\n",
      "Retrieving results for record 309 | harbour breton\n",
      "Retrieving results for record 310 | norman wells\n",
      "Retrieving results for record 311 | huarmey\n",
      "Retrieving results for record 312 | lavrentiya\n",
      "Retrieving results for record 313 | antsohihy\n",
      "Retrieving results for record 314 | saint-augustin\n",
      "Retrieving results for record 315 | ayan\n",
      "Retrieving results for record 316 | ambon\n",
      "Retrieving results for record 317 | bambous virieux\n",
      "Retrieving results for record 318 | caravelas\n",
      "Retrieving results for record 319 | bangangte\n",
      "Retrieving results for record 320 | itarema\n",
      "City not found...skipping.\n",
      "Retrieving results for record 321 | barao de melgaco\n",
      "Retrieving results for record 322 | yuli\n",
      "Retrieving results for record 323 | tecoanapa\n",
      "Retrieving results for record 324 | kilrush\n",
      "Retrieving results for record 325 | jerez\n",
      "Retrieving results for record 326 | bolgatanga\n",
      "Retrieving results for record 327 | pundaguitan\n",
      "City not found...skipping.\n",
      "Retrieving results for record 328 | barreirinha\n",
      "Retrieving results for record 329 | bayir\n",
      "Retrieving results for record 330 | ouesso\n",
      "Retrieving results for record 331 | yumen\n",
      "Retrieving results for record 332 | hualmay\n",
      "Retrieving results for record 333 | lorengau\n",
      "Retrieving results for record 334 | noumea\n",
      "Retrieving results for record 335 | valentin gomez farias\n",
      "Retrieving results for record 336 | kastamonu\n",
      "Retrieving results for record 337 | mariano roque alonso\n",
      "Retrieving results for record 338 | hofn\n",
      "City not found...skipping.\n",
      "Retrieving results for record 339 | gamboula\n",
      "Retrieving results for record 340 | vanimo\n",
      "Retrieving results for record 341 | nanortalik\n",
      "Retrieving results for record 342 | marquette\n",
      "Retrieving results for record 343 | perevolotskiy\n",
      "Retrieving results for record 344 | xining\n",
      "Retrieving results for record 345 | kaitangata\n",
      "Retrieving results for record 346 | livadia\n",
      "Retrieving results for record 347 | san\n",
      "Retrieving results for record 348 | mapiripan\n"
     ]
    },
    {
     "name": "stdout",
     "output_type": "stream",
     "text": [
      "City not found...skipping.\n",
      "Retrieving results for record 349 | fort nelson\n",
      "City not found...skipping.\n",
      "Retrieving results for record 350 | tasiilaq\n",
      "Retrieving results for record 351 | ulladulla\n",
      "Retrieving results for record 352 | lowestoft\n",
      "City not found...skipping.\n",
      "Retrieving results for record 353 | kattivakkam\n",
      "City not found...skipping.\n",
      "Retrieving results for record 354 | mont-dore\n",
      "Retrieving results for record 355 | tucumcari\n",
      "Retrieving results for record 356 | luena\n",
      "Retrieving results for record 357 | sciacca\n",
      "City not found...skipping.\n",
      "Retrieving results for record 358 | luderitz\n",
      "Retrieving results for record 359 | boa vista\n",
      "Retrieving results for record 360 | bar\n",
      "Retrieving results for record 361 | half moon bay\n",
      "Retrieving results for record 362 | berdyaush\n",
      "Retrieving results for record 363 | tsiroanomandidy\n",
      "Retrieving results for record 364 | los lunas\n",
      "Retrieving results for record 365 | opuwo\n",
      "Retrieving results for record 366 | fukue\n",
      "City not found...skipping.\n",
      "Retrieving results for record 367 | baherden\n",
      "Retrieving results for record 368 | yenagoa\n",
      "Retrieving results for record 369 | lermontovka\n",
      "Retrieving results for record 370 | evensk\n",
      "Retrieving results for record 371 | narsaq\n",
      "Retrieving results for record 372 | tacuarembo\n",
      "Retrieving results for record 373 | severnyy\n",
      "Retrieving results for record 374 | buraydah\n",
      "Retrieving results for record 375 | sao joao da barra\n",
      "Retrieving results for record 376 | katsuura\n",
      "City not found...skipping.\n",
      "Retrieving results for record 377 | port moresby\n",
      "Retrieving results for record 378 | marystown\n",
      "Retrieving results for record 379 | tutoia\n",
      "Retrieving results for record 380 | ponta delgada\n",
      "Retrieving results for record 381 | nsanje\n",
      "Retrieving results for record 382 | ponta do sol\n",
      "Retrieving results for record 383 | canto do buriti\n",
      "City not found...skipping.\n",
      "Retrieving results for record 384 | tonantins\n",
      "Retrieving results for record 385 | pisco\n",
      "Retrieving results for record 386 | havre-saint-pierre\n",
      "Retrieving results for record 387 | jamuria\n",
      "City not found...skipping.\n",
      "Retrieving results for record 388 | sidi bin nur\n",
      "Retrieving results for record 389 | yarmouth\n",
      "Retrieving results for record 390 | gonc\n",
      "Retrieving results for record 391 | qaqortoq\n",
      "Retrieving results for record 392 | kalmunai\n",
      "Retrieving results for record 393 | severo-kurilsk\n",
      "Retrieving results for record 394 | batemans bay\n",
      "Retrieving results for record 395 | kizukuri\n",
      "Retrieving results for record 396 | dalby\n",
      "Retrieving results for record 397 | governador valadares\n",
      "Retrieving results for record 398 | west wendover\n",
      "Retrieving results for record 399 | namibe\n",
      "Retrieving results for record 400 | nakusp\n",
      "Retrieving results for record 401 | yarada\n",
      "Retrieving results for record 402 | constantine\n",
      "City not found...skipping.\n",
      "Retrieving results for record 403 | yigou\n",
      "Retrieving results for record 404 | miraflores\n",
      "Retrieving results for record 405 | itoman\n",
      "Retrieving results for record 406 | perth\n",
      "Retrieving results for record 407 | dombarovskiy\n",
      "Retrieving results for record 408 | santiago\n",
      "City not found...skipping.\n",
      "Retrieving results for record 409 | iranshahr\n",
      "Retrieving results for record 410 | tayu\n",
      "City not found...skipping.\n",
      "Retrieving results for record 411 | parana\n",
      "Retrieving results for record 412 | pudozh\n",
      "Retrieving results for record 413 | comodoro rivadavia\n",
      "City not found...skipping.\n",
      "Retrieving results for record 414 | marzuq\n",
      "Retrieving results for record 415 | fuerte olimpo\n",
      "City not found...skipping.\n",
      "City not found...skipping.\n",
      "Retrieving results for record 416 | statesboro\n",
      "Retrieving results for record 417 | stokmarknes\n",
      "Retrieving results for record 418 | ahipara\n",
      "Retrieving results for record 419 | yefremov\n",
      "Retrieving results for record 420 | henties bay\n",
      "Retrieving results for record 421 | pucallpa\n",
      "Retrieving results for record 422 | avera\n",
      "Retrieving results for record 423 | pandan\n",
      "Retrieving results for record 424 | los llanos de aridane\n",
      "Retrieving results for record 425 | mago\n",
      "Retrieving results for record 426 | cantagallo\n",
      "Retrieving results for record 427 | barcelona\n",
      "Retrieving results for record 428 | rawlins\n",
      "Retrieving results for record 429 | dabat\n",
      "Retrieving results for record 430 | komsomolskiy\n",
      "Retrieving results for record 431 | fort morgan\n",
      "Retrieving results for record 432 | balsas\n",
      "Retrieving results for record 433 | baoshan\n",
      "Retrieving results for record 434 | walvis bay\n",
      "Retrieving results for record 435 | gijon\n",
      "Retrieving results for record 436 | mexico\n",
      "Retrieving results for record 437 | wuwei\n",
      "Retrieving results for record 438 | san patricio\n",
      "Retrieving results for record 439 | carballo\n",
      "Retrieving results for record 440 | lagunas\n",
      "City not found...skipping.\n",
      "Retrieving results for record 441 | santarem\n",
      "Retrieving results for record 442 | grindavik\n",
      "Retrieving results for record 443 | ust-ilimsk\n",
      "Retrieving results for record 444 | brodnica\n",
      "Retrieving results for record 445 | arraial do cabo\n",
      "Retrieving results for record 446 | den helder\n",
      "Retrieving results for record 447 | margate\n",
      "Retrieving results for record 448 | sault sainte marie\n",
      "Retrieving results for record 449 | sept-iles\n",
      "Retrieving results for record 450 | tilichiki\n",
      "Retrieving results for record 451 | rio gallegos\n",
      "Retrieving results for record 452 | jaisalmer\n",
      "Retrieving results for record 453 | zayukovo\n",
      "Retrieving results for record 454 | camana\n",
      "Retrieving results for record 455 | lazaro cardenas\n",
      "Retrieving results for record 456 | beberibe\n",
      "Retrieving results for record 457 | ondangwa\n",
      "Retrieving results for record 458 | slave lake\n",
      "Retrieving results for record 459 | mahajanga\n",
      "Retrieving results for record 460 | pemba\n",
      "Retrieving results for record 461 | roma\n",
      "Retrieving results for record 462 | florence\n",
      "Retrieving results for record 463 | susanville\n",
      "Retrieving results for record 464 | strezhevoy\n",
      "Retrieving results for record 465 | port hedland\n",
      "Retrieving results for record 466 | dubbo\n",
      "Retrieving results for record 467 | nelson bay\n",
      "Retrieving results for record 468 | coronado\n",
      "Retrieving results for record 469 | yeniseysk\n",
      "Retrieving results for record 470 | ilinskiy\n",
      "Retrieving results for record 471 | tyret pervaya\n",
      "City not found...skipping.\n",
      "Retrieving results for record 472 | oranjemund\n",
      "Retrieving results for record 473 | marechal deodoro\n",
      "Retrieving results for record 474 | singkang\n",
      "Retrieving results for record 475 | waingapu\n",
      "Retrieving results for record 476 | port-cartier\n",
      "Retrieving results for record 477 | wangkui\n",
      "City not found...skipping.\n",
      "Retrieving results for record 478 | santona\n",
      "Retrieving results for record 479 | khash\n",
      "Retrieving results for record 480 | aktau\n",
      "City not found...skipping.\n",
      "Retrieving results for record 481 | luwuk\n",
      "Retrieving results for record 482 | komsomolskoye\n",
      "Retrieving results for record 483 | kushiro\n",
      "Retrieving results for record 484 | krasnoselkup\n",
      "Retrieving results for record 485 | val-david\n",
      "City not found...skipping.\n",
      "City not found...skipping.\n",
      "Retrieving results for record 486 | mahina\n",
      "Retrieving results for record 487 | aksay\n",
      "Retrieving results for record 488 | yining\n",
      "Retrieving results for record 489 | zaoyang\n",
      "Retrieving results for record 490 | dwarka\n",
      "Retrieving results for record 491 | trincomalee\n",
      "Retrieving results for record 492 | chilca\n",
      "Retrieving results for record 493 | ust-nera\n",
      "Retrieving results for record 494 | udachnyy\n",
      "Retrieving results for record 495 | baoying\n",
      "Retrieving results for record 496 | shimanovsk\n",
      "Retrieving results for record 497 | ginir\n",
      "Retrieving results for record 498 | tadine\n",
      "City not found...skipping.\n",
      "Retrieving results for record 499 | cotonou\n",
      "Retrieving results for record 500 | noyabrsk\n",
      "Retrieving results for record 501 | iracoubo\n",
      "Retrieving results for record 502 | maragogi\n",
      "Retrieving results for record 503 | laguna\n",
      "Retrieving results for record 504 | boffa\n",
      "Retrieving results for record 505 | kropotkin\n",
      "Retrieving results for record 506 | sarangpur\n",
      "Retrieving results for record 507 | tahoua\n",
      "City not found...skipping.\n",
      "Retrieving results for record 508 | kloulklubed\n",
      "Retrieving results for record 509 | gamba\n",
      "Retrieving results for record 510 | husavik\n",
      "City not found...skipping.\n",
      "Retrieving results for record 511 | lokosovo\n",
      "Retrieving results for record 512 | simbahan\n",
      "Retrieving results for record 513 | fortuna\n",
      "City not found...skipping.\n",
      "Retrieving results for record 514 | nakhon si thammarat\n"
     ]
    },
    {
     "name": "stdout",
     "output_type": "stream",
     "text": [
      "Retrieving results for record 515 | rio claro\n",
      "City not found...skipping.\n",
      "Retrieving results for record 516 | portland\n",
      "Retrieving results for record 517 | fasa\n",
      "Retrieving results for record 518 | namatanai\n",
      "Retrieving results for record 519 | qui nhon\n",
      "Retrieving results for record 520 | sarkikaraagac\n",
      "City not found...skipping.\n",
      "Retrieving results for record 521 | taoudenni\n",
      "Retrieving results for record 522 | nizhniy tsasuchey\n",
      "Retrieving results for record 523 | sal rei\n",
      "Retrieving results for record 524 | jiangyou\n",
      "Retrieving results for record 525 | kodinsk\n",
      "Retrieving results for record 526 | jibuti\n",
      "Retrieving results for record 527 | asau\n",
      "City not found...skipping.\n",
      "Retrieving results for record 528 | plettenberg bay\n",
      "Retrieving results for record 529 | terrace bay\n",
      "Retrieving results for record 530 | muyezerskiy\n",
      "Retrieving results for record 531 | krasnyy chikoy\n",
      "Retrieving results for record 532 | guarapari\n",
      "Retrieving results for record 533 | hami\n",
      "Retrieving results for record 534 | rome\n",
      "Retrieving results for record 535 | oxford\n",
      "Retrieving results for record 536 | visnes\n",
      "Retrieving results for record 537 | luwingu\n",
      "Retrieving results for record 538 | nam som\n",
      "Retrieving results for record 539 | nome\n",
      "Retrieving results for record 540 | naze\n",
      "Retrieving results for record 541 | svetlaya\n",
      "Retrieving results for record 542 | beyneu\n",
      "Retrieving results for record 543 | general roca\n",
      "Retrieving results for record 544 | sitka\n",
      "Retrieving results for record 545 | college\n",
      "Retrieving results for record 546 | bambanglipuro\n",
      "City not found...skipping.\n",
      "Retrieving results for record 547 | kieta\n",
      "Retrieving results for record 548 | forbes\n",
      "Retrieving results for record 549 | markova\n",
      "Retrieving results for record 550 | hirara\n",
      "Retrieving results for record 551 | adrar\n",
      "Retrieving results for record 552 | kalat\n",
      "Retrieving results for record 553 | bereznik\n",
      "Retrieving results for record 554 | guadix\n",
      "Retrieving results for record 555 | arica\n",
      "Retrieving results for record 556 | zheleznodorozhnyy\n",
      "Retrieving results for record 557 | oga\n",
      "Retrieving results for record 558 | jinxi\n",
      "City not found...skipping.\n",
      "Retrieving results for record 559 | severo-yeniseyskiy\n",
      "Retrieving results for record 560 | finnsnes\n",
      "Retrieving results for record 561 | qianan\n",
      "Retrieving results for record 562 | vydrino\n",
      "Retrieving results for record 563 | kurdzhinovo\n",
      "Retrieving results for record 564 | nechi\n",
      "Retrieving results for record 565 | aguimes\n",
      "Retrieving results for record 566 | tirlyanskiy\n",
      "Retrieving results for record 567 | lerici\n",
      "Retrieving results for record 568 | manaure\n",
      "Retrieving results for record 569 | springbok\n",
      "Retrieving results for record 570 | ohara\n",
      "Retrieving results for record 571 | tigil\n",
      "Retrieving results for record 572 | kangaatsiaq\n",
      "Retrieving results for record 573 | udgir\n",
      "Retrieving results for record 574 | broken hill\n",
      "Retrieving results for record 575 | nantucket\n",
      "City not found...skipping.\n",
      "Retrieving results for record 576 | praya\n",
      "Retrieving results for record 577 | doha\n",
      "Retrieving results for record 578 | bria\n",
      "Retrieving results for record 579 | ugoofaaru\n",
      "Retrieving results for record 580 | ust-kut\n",
      "Retrieving results for record 581 | manati\n",
      "Retrieving results for record 582 | tual\n",
      "Retrieving results for record 583 | girvan\n",
      "Retrieving results for record 584 | khawhai\n",
      "Retrieving results for record 585 | kisangani\n",
      "Retrieving results for record 586 | nemuro\n",
      "--------------------------------------\n",
      "End of data retrieval\n",
      "--------------------------------------\n"
     ]
    }
   ],
   "source": [
    "# Loop through the list of cities and perform a request for data on each\n",
    "country = []\n",
    "temp = []\n",
    "humidity = []\n",
    "cloud = []\n",
    "wind_speed = []\n",
    "date = []\n",
    "new_lats = []\n",
    "new_longs = []\n",
    "new_cities =[]\n",
    "counter = 0\n",
    "\n",
    "print(\"Beginning data retrieval for each city\")\n",
    "print(\"--------------------------------------\")\n",
    "for city in cities:\n",
    "    response = requests.get(query_url + city).json()\n",
    "   \n",
    "    try:\n",
    "        new_lats.append(response['coord']['lat'])\n",
    "        new_longs.append(response['coord']['lon'])\n",
    "        country.append(response['sys']['country'])\n",
    "        temp.append(response['main']['temp_max'])\n",
    "        humidity.append(response['main']['humidity'])\n",
    "        cloud.append(response['clouds']['all'])\n",
    "        wind_speed.append(response['wind']['speed'])\n",
    "        date.append(response['dt'])\n",
    "        new_cities.append(city)\n",
    "        counter += 1\n",
    "        print(f\"Retrieving results for record {counter} | {city}\")\n",
    "        time.sleep(1)\n",
    "    except:\n",
    "        print(\"City not found...skipping.\")\n",
    "        pass\n",
    "    \n",
    "print(\"--------------------------------------\")\n",
    "print(\"End of data retrieval\")\n",
    "print(\"--------------------------------------\")"
   ]
  },
  {
   "cell_type": "markdown",
   "metadata": {},
   "source": [
    "### Convert Raw Data to DataFrame\n",
    "* Export the city data into a .csv.\n",
    "* Display the DataFrame"
   ]
  },
  {
   "cell_type": "code",
   "execution_count": 5,
   "metadata": {
    "scrolled": true
   },
   "outputs": [
    {
     "data": {
      "text/html": [
       "<div>\n",
       "<style scoped>\n",
       "    .dataframe tbody tr th:only-of-type {\n",
       "        vertical-align: middle;\n",
       "    }\n",
       "\n",
       "    .dataframe tbody tr th {\n",
       "        vertical-align: top;\n",
       "    }\n",
       "\n",
       "    .dataframe thead th {\n",
       "        text-align: right;\n",
       "    }\n",
       "</style>\n",
       "<table border=\"1\" class=\"dataframe\">\n",
       "  <thead>\n",
       "    <tr style=\"text-align: right;\">\n",
       "      <th></th>\n",
       "      <th>City</th>\n",
       "      <th>Country</th>\n",
       "      <th>Lat</th>\n",
       "      <th>Long</th>\n",
       "      <th>Temp (F)</th>\n",
       "      <th>Humidity</th>\n",
       "      <th>Cloudiness</th>\n",
       "      <th>Wind Speed</th>\n",
       "      <th>Date</th>\n",
       "    </tr>\n",
       "    <tr>\n",
       "      <th>City_ID</th>\n",
       "      <th></th>\n",
       "      <th></th>\n",
       "      <th></th>\n",
       "      <th></th>\n",
       "      <th></th>\n",
       "      <th></th>\n",
       "      <th></th>\n",
       "      <th></th>\n",
       "      <th></th>\n",
       "    </tr>\n",
       "  </thead>\n",
       "  <tbody>\n",
       "    <tr>\n",
       "      <th>1</th>\n",
       "      <td>methoni</td>\n",
       "      <td>GR</td>\n",
       "      <td>36.82</td>\n",
       "      <td>21.70</td>\n",
       "      <td>82.40</td>\n",
       "      <td>51</td>\n",
       "      <td>40</td>\n",
       "      <td>13.87</td>\n",
       "      <td>1593087971</td>\n",
       "    </tr>\n",
       "    <tr>\n",
       "      <th>2</th>\n",
       "      <td>hermanus</td>\n",
       "      <td>ZA</td>\n",
       "      <td>-34.42</td>\n",
       "      <td>19.23</td>\n",
       "      <td>70.00</td>\n",
       "      <td>54</td>\n",
       "      <td>39</td>\n",
       "      <td>5.99</td>\n",
       "      <td>1593087972</td>\n",
       "    </tr>\n",
       "    <tr>\n",
       "      <th>3</th>\n",
       "      <td>jamestown</td>\n",
       "      <td>US</td>\n",
       "      <td>42.10</td>\n",
       "      <td>-79.24</td>\n",
       "      <td>60.80</td>\n",
       "      <td>77</td>\n",
       "      <td>20</td>\n",
       "      <td>5.82</td>\n",
       "      <td>1593087973</td>\n",
       "    </tr>\n",
       "    <tr>\n",
       "      <th>4</th>\n",
       "      <td>upernavik</td>\n",
       "      <td>GL</td>\n",
       "      <td>72.79</td>\n",
       "      <td>-56.15</td>\n",
       "      <td>35.87</td>\n",
       "      <td>91</td>\n",
       "      <td>100</td>\n",
       "      <td>3.18</td>\n",
       "      <td>1593087974</td>\n",
       "    </tr>\n",
       "    <tr>\n",
       "      <th>5</th>\n",
       "      <td>albany</td>\n",
       "      <td>US</td>\n",
       "      <td>42.60</td>\n",
       "      <td>-73.97</td>\n",
       "      <td>70.00</td>\n",
       "      <td>50</td>\n",
       "      <td>5</td>\n",
       "      <td>3.60</td>\n",
       "      <td>1593087888</td>\n",
       "    </tr>\n",
       "  </tbody>\n",
       "</table>\n",
       "</div>"
      ],
      "text/plain": [
       "              City Country    Lat   Long  Temp (F)  Humidity  Cloudiness  \\\n",
       "City_ID                                                                    \n",
       "1          methoni      GR  36.82  21.70     82.40        51          40   \n",
       "2         hermanus      ZA -34.42  19.23     70.00        54          39   \n",
       "3        jamestown      US  42.10 -79.24     60.80        77          20   \n",
       "4        upernavik      GL  72.79 -56.15     35.87        91         100   \n",
       "5           albany      US  42.60 -73.97     70.00        50           5   \n",
       "\n",
       "         Wind Speed        Date  \n",
       "City_ID                          \n",
       "1             13.87  1593087971  \n",
       "2              5.99  1593087972  \n",
       "3              5.82  1593087973  \n",
       "4              3.18  1593087974  \n",
       "5              3.60  1593087888  "
      ]
     },
     "execution_count": 5,
     "metadata": {},
     "output_type": "execute_result"
    }
   ],
   "source": [
    "# Create DataFrame and display DataFrame\n",
    "city_weather_df = pd.DataFrame({\n",
    "    \"City\": new_cities,\n",
    "    \"Country\": country,\n",
    "    \"Lat\": new_lats,\n",
    "    \"Long\": new_longs,\n",
    "    \"Temp (F)\": temp,\n",
    "    \"Humidity\": humidity,\n",
    "    \"Cloudiness\": cloud,\n",
    "    \"Wind Speed\": wind_speed,\n",
    "    \"Date\": date\n",
    "})\n",
    "city_weather_df.index.name = \"City_ID\"\n",
    "city_weather_df.index +=1\n",
    "city_weather_df.head()"
   ]
  },
  {
   "cell_type": "code",
   "execution_count": 6,
   "metadata": {},
   "outputs": [],
   "source": [
    "# Exporting city data to csv\n",
    "city_weather_df.to_csv(\"world_cities.csv\", encoding=\"utf-8\")"
   ]
  },
  {
   "cell_type": "markdown",
   "metadata": {},
   "source": [
    "## Inspect the data and remove the cities where the humidity > 100%.\n",
    "----\n",
    "Skip this step if there are no cities that have humidity > 100%. "
   ]
  },
  {
   "cell_type": "code",
   "execution_count": 7,
   "metadata": {},
   "outputs": [
    {
     "data": {
      "text/plain": [
       "Int64Index([], dtype='int64', name='City_ID')"
      ]
     },
     "execution_count": 7,
     "metadata": {},
     "output_type": "execute_result"
    }
   ],
   "source": [
    "#  Get the indices of cities that have humidity over 100%.\n",
    "city_weather_df[city_weather_df[\"Humidity\"].gt(100)].index"
   ]
  },
  {
   "cell_type": "code",
   "execution_count": 8,
   "metadata": {},
   "outputs": [
    {
     "data": {
      "text/plain": [
       "0"
      ]
     },
     "execution_count": 8,
     "metadata": {},
     "output_type": "execute_result"
    }
   ],
   "source": [
    "#  Double checking to see if there are any rows that have humidity over 100%.\n",
    "clean_city_df = city_weather_df.loc[city_weather_df[\"Humidity\"] > 100]\n",
    "len(clean_city_df)"
   ]
  },
  {
   "cell_type": "code",
   "execution_count": 9,
   "metadata": {},
   "outputs": [
    {
     "data": {
      "text/html": [
       "<div>\n",
       "<style scoped>\n",
       "    .dataframe tbody tr th:only-of-type {\n",
       "        vertical-align: middle;\n",
       "    }\n",
       "\n",
       "    .dataframe tbody tr th {\n",
       "        vertical-align: top;\n",
       "    }\n",
       "\n",
       "    .dataframe thead th {\n",
       "        text-align: right;\n",
       "    }\n",
       "</style>\n",
       "<table border=\"1\" class=\"dataframe\">\n",
       "  <thead>\n",
       "    <tr style=\"text-align: right;\">\n",
       "      <th></th>\n",
       "      <th>Lat</th>\n",
       "      <th>Long</th>\n",
       "      <th>Temp (F)</th>\n",
       "      <th>Humidity</th>\n",
       "      <th>Cloudiness</th>\n",
       "      <th>Wind Speed</th>\n",
       "      <th>Date</th>\n",
       "    </tr>\n",
       "  </thead>\n",
       "  <tbody>\n",
       "    <tr>\n",
       "      <th>count</th>\n",
       "      <td>586.000000</td>\n",
       "      <td>586.000000</td>\n",
       "      <td>586.000000</td>\n",
       "      <td>586.000000</td>\n",
       "      <td>586.000000</td>\n",
       "      <td>586.000000</td>\n",
       "      <td>5.860000e+02</td>\n",
       "    </tr>\n",
       "    <tr>\n",
       "      <th>mean</th>\n",
       "      <td>20.591451</td>\n",
       "      <td>23.044181</td>\n",
       "      <td>70.815973</td>\n",
       "      <td>66.481229</td>\n",
       "      <td>48.930034</td>\n",
       "      <td>8.149863</td>\n",
       "      <td>1.593088e+09</td>\n",
       "    </tr>\n",
       "    <tr>\n",
       "      <th>std</th>\n",
       "      <td>33.052888</td>\n",
       "      <td>88.596764</td>\n",
       "      <td>15.678746</td>\n",
       "      <td>23.215390</td>\n",
       "      <td>38.305032</td>\n",
       "      <td>5.155191</td>\n",
       "      <td>2.035085e+02</td>\n",
       "    </tr>\n",
       "    <tr>\n",
       "      <th>min</th>\n",
       "      <td>-54.800000</td>\n",
       "      <td>-175.200000</td>\n",
       "      <td>26.600000</td>\n",
       "      <td>5.000000</td>\n",
       "      <td>0.000000</td>\n",
       "      <td>0.110000</td>\n",
       "      <td>1.593088e+09</td>\n",
       "    </tr>\n",
       "    <tr>\n",
       "      <th>25%</th>\n",
       "      <td>-6.615000</td>\n",
       "      <td>-55.852500</td>\n",
       "      <td>60.800000</td>\n",
       "      <td>54.000000</td>\n",
       "      <td>6.000000</td>\n",
       "      <td>3.940000</td>\n",
       "      <td>1.593088e+09</td>\n",
       "    </tr>\n",
       "    <tr>\n",
       "      <th>50%</th>\n",
       "      <td>24.200000</td>\n",
       "      <td>27.345000</td>\n",
       "      <td>73.560000</td>\n",
       "      <td>73.000000</td>\n",
       "      <td>43.500000</td>\n",
       "      <td>7.045000</td>\n",
       "      <td>1.593088e+09</td>\n",
       "    </tr>\n",
       "    <tr>\n",
       "      <th>75%</th>\n",
       "      <td>48.755000</td>\n",
       "      <td>102.300000</td>\n",
       "      <td>81.337500</td>\n",
       "      <td>83.000000</td>\n",
       "      <td>90.000000</td>\n",
       "      <td>11.180000</td>\n",
       "      <td>1.593088e+09</td>\n",
       "    </tr>\n",
       "    <tr>\n",
       "      <th>max</th>\n",
       "      <td>78.220000</td>\n",
       "      <td>178.420000</td>\n",
       "      <td>114.800000</td>\n",
       "      <td>100.000000</td>\n",
       "      <td>100.000000</td>\n",
       "      <td>27.510000</td>\n",
       "      <td>1.593089e+09</td>\n",
       "    </tr>\n",
       "  </tbody>\n",
       "</table>\n",
       "</div>"
      ],
      "text/plain": [
       "              Lat        Long    Temp (F)    Humidity  Cloudiness  Wind Speed  \\\n",
       "count  586.000000  586.000000  586.000000  586.000000  586.000000  586.000000   \n",
       "mean    20.591451   23.044181   70.815973   66.481229   48.930034    8.149863   \n",
       "std     33.052888   88.596764   15.678746   23.215390   38.305032    5.155191   \n",
       "min    -54.800000 -175.200000   26.600000    5.000000    0.000000    0.110000   \n",
       "25%     -6.615000  -55.852500   60.800000   54.000000    6.000000    3.940000   \n",
       "50%     24.200000   27.345000   73.560000   73.000000   43.500000    7.045000   \n",
       "75%     48.755000  102.300000   81.337500   83.000000   90.000000   11.180000   \n",
       "max     78.220000  178.420000  114.800000  100.000000  100.000000   27.510000   \n",
       "\n",
       "               Date  \n",
       "count  5.860000e+02  \n",
       "mean   1.593088e+09  \n",
       "std    2.035085e+02  \n",
       "min    1.593088e+09  \n",
       "25%    1.593088e+09  \n",
       "50%    1.593088e+09  \n",
       "75%    1.593088e+09  \n",
       "max    1.593089e+09  "
      ]
     },
     "execution_count": 9,
     "metadata": {},
     "output_type": "execute_result"
    }
   ],
   "source": [
    "# Check for max humidity. \n",
    "city_weather_df.describe()"
   ]
  },
  {
   "cell_type": "markdown",
   "metadata": {},
   "source": [
    "#### (No cities with humidity over 100% in this dataframe)."
   ]
  },
  {
   "cell_type": "markdown",
   "metadata": {},
   "source": [
    "## Plotting the Data\n",
    "* Use proper labeling of the plots using plot titles (including date of analysis) and axes labels.\n",
    "* Save the plotted figures as .pngs."
   ]
  },
  {
   "cell_type": "markdown",
   "metadata": {},
   "source": [
    "## Latitude vs. Temperature Plot"
   ]
  },
  {
   "cell_type": "code",
   "execution_count": 12,
   "metadata": {
    "scrolled": true
   },
   "outputs": [
    {
     "data": {
      "image/png": "[encoded data removed]",
      "text/plain": [
       "<Figure size 432x288 with 1 Axes>"
      ]
     },
     "metadata": {
      "needs_background": "light"
     },
     "output_type": "display_data"
    }
   ],
   "source": [
    "# Build a scatter plot for each data type\n",
    "plt.scatter(city_weather_df[\"Lat\"], city_weather_df[\"Temp (F)\"], marker=\"o\")\n",
    "\n",
    "# Incorporate the other graph properties\n",
    "plt.title(\"Temperature in World Cities\")\n",
    "plt.ylabel(\"Temperature (F)\")\n",
    "plt.xlabel(\"Latitude\")\n",
    "plt.grid(True)\n",
    "\n",
    "# Save the figure\n",
    "plt.savefig(\"TemperatureInWorldCities.png\")\n",
    "\n",
    "# Show plot\n",
    "plt.show()"
   ]
  },
  {
   "cell_type": "markdown",
   "metadata": {},
   "source": [
    "#####  * The code plots the temperatures of 586 randomly selected world cities in relation to their corresponding latitudes. According to the scatter plot, cities closest to the Equator are relatively hotter than cities farther away from the Equator. The farther away the cities are from the Equator, the colder they are.  "
   ]
  },
  {
   "cell_type": "markdown",
   "metadata": {},
   "source": [
    "## Latitude vs. Humidity Plot"
   ]
  },
  {
   "cell_type": "code",
   "execution_count": 13,
   "metadata": {
    "scrolled": true
   },
   "outputs": [
    {
     "data": {
      "image/png": "[encoded data removed]",
      "text/plain": [
       "<Figure size 432x288 with 1 Axes>"
      ]
     },
     "metadata": {
      "needs_background": "light"
     },
     "output_type": "display_data"
    }
   ],
   "source": [
    "#Latitude vs. Humidity\n",
    "plt.scatter(city_weather_df[\"Lat\"], city_weather_df[\"Humidity\"], marker=\"o\")\n",
    "\n",
    "# Incorporate the other graph properties\n",
    "plt.title(\"Humidity in World Cities\")\n",
    "plt.ylabel(\"Humidity (%)\")\n",
    "plt.xlabel(\"Latitude\")\n",
    "plt.grid(True)\n",
    "\n",
    "# Save the figure\n",
    "plt.savefig(\"HumidityInWorldCities.png\")\n",
    "\n",
    "# Show plot\n",
    "plt.show()"
   ]
  },
  {
   "cell_type": "markdown",
   "metadata": {},
   "source": [
    "##### * The code plots the percent humidity of the selected world cities in relation to their corresponding latitudes. The scatter plot shows that most of the cities in the sample currently have humidity above 50%, with minimal correlation to their latitudinal location."
   ]
  },
  {
   "cell_type": "markdown",
   "metadata": {},
   "source": [
    "## Latitude vs. Cloudiness Plot"
   ]
  },
  {
   "cell_type": "code",
   "execution_count": 14,
   "metadata": {
    "scrolled": true
   },
   "outputs": [
    {
     "data": {
      "image/png": "[encoded data removed]",
      "text/plain": [
       "<Figure size 432x288 with 1 Axes>"
      ]
     },
     "metadata": {
      "needs_background": "light"
     },
     "output_type": "display_data"
    }
   ],
   "source": [
    "#Latitude vs. Cloudiness\n",
    "plt.scatter(city_weather_df[\"Lat\"], city_weather_df[\"Cloudiness\"], marker=\"o\")\n",
    "\n",
    "# Incorporate the other graph properties\n",
    "plt.title(\"Cloudiness in World Cities\")\n",
    "plt.ylabel(\"Cloudiness (%)\")\n",
    "plt.xlabel(\"Latitude\")\n",
    "plt.grid(True)\n",
    "\n",
    "# Save the figure\n",
    "plt.savefig(\"CloudinessInWorldCities.png\")\n",
    "\n",
    "# Show plot\n",
    "plt.show()"
   ]
  },
  {
   "cell_type": "markdown",
   "metadata": {},
   "source": [
    " * The code plots the percent cloudiness of the selected world cities in relation to their corresponding latitudes. Thescatter plot shows large clusters of cities either having no to little clouds or 100% (or close to 100%) cloudiness, with minimal correlation to their latitudinal location.  \n"
   ]
  },
  {
   "cell_type": "markdown",
   "metadata": {},
   "source": [
    "## Latitude vs. Wind Speed Plot"
   ]
  },
  {
   "cell_type": "code",
   "execution_count": 15,
   "metadata": {
    "scrolled": true
   },
   "outputs": [
    {
     "data": {
      "image/png": "[encoded data removed]",
      "text/plain": [
       "<Figure size 432x288 with 1 Axes>"
      ]
     },
     "metadata": {
      "needs_background": "light"
     },
     "output_type": "display_data"
    }
   ],
   "source": [
    "#Latitude vs. Wind Speed\n",
    "plt.scatter(city_weather_df[\"Lat\"], city_weather_df[\"Wind Speed\"], marker=\"o\")\n",
    "\n",
    "# Incorporate the other graph properties\n",
    "plt.title(\"Wind Speed in World Cities\")\n",
    "plt.ylabel(\"Wind Speed (mph)\")\n",
    "plt.xlabel(\"Latitude\")\n",
    "plt.grid(True)\n",
    "\n",
    "# Save the figure\n",
    "plt.savefig(\"WindSpeedInWorldCities.png\")\n",
    "\n",
    "# Show plot\n",
    "plt.show()"
   ]
  },
  {
   "cell_type": "markdown",
   "metadata": {},
   "source": [
    "##### * The code plots the wind speed (in mph) of the selected world cities in relation to their corresponding latitudes. The scatter plot shows that most of the cities currently have wind speeds below 10 mph, with minimal correlation to their latitudinal location. "
   ]
  },
  {
   "cell_type": "markdown",
   "metadata": {},
   "source": [
    "## Linear Regression"
   ]
  },
  {
   "cell_type": "code",
   "execution_count": 18,
   "metadata": {},
   "outputs": [
    {
     "data": {
      "text/html": [
       "<div>\n",
       "<style scoped>\n",
       "    .dataframe tbody tr th:only-of-type {\n",
       "        vertical-align: middle;\n",
       "    }\n",
       "\n",
       "    .dataframe tbody tr th {\n",
       "        vertical-align: top;\n",
       "    }\n",
       "\n",
       "    .dataframe thead th {\n",
       "        text-align: right;\n",
       "    }\n",
       "</style>\n",
       "<table border=\"1\" class=\"dataframe\">\n",
       "  <thead>\n",
       "    <tr style=\"text-align: right;\">\n",
       "      <th></th>\n",
       "      <th>City</th>\n",
       "      <th>Country</th>\n",
       "      <th>Lat</th>\n",
       "      <th>Long</th>\n",
       "      <th>Temp (F)</th>\n",
       "      <th>Humidity</th>\n",
       "      <th>Cloudiness</th>\n",
       "      <th>Wind Speed</th>\n",
       "      <th>Date</th>\n",
       "    </tr>\n",
       "    <tr>\n",
       "      <th>City_ID</th>\n",
       "      <th></th>\n",
       "      <th></th>\n",
       "      <th></th>\n",
       "      <th></th>\n",
       "      <th></th>\n",
       "      <th></th>\n",
       "      <th></th>\n",
       "      <th></th>\n",
       "      <th></th>\n",
       "    </tr>\n",
       "  </thead>\n",
       "  <tbody>\n",
       "    <tr>\n",
       "      <th>1</th>\n",
       "      <td>methoni</td>\n",
       "      <td>GR</td>\n",
       "      <td>36.82</td>\n",
       "      <td>21.70</td>\n",
       "      <td>82.40</td>\n",
       "      <td>51</td>\n",
       "      <td>40</td>\n",
       "      <td>13.87</td>\n",
       "      <td>1593087971</td>\n",
       "    </tr>\n",
       "    <tr>\n",
       "      <th>3</th>\n",
       "      <td>jamestown</td>\n",
       "      <td>US</td>\n",
       "      <td>42.10</td>\n",
       "      <td>-79.24</td>\n",
       "      <td>60.80</td>\n",
       "      <td>77</td>\n",
       "      <td>20</td>\n",
       "      <td>5.82</td>\n",
       "      <td>1593087973</td>\n",
       "    </tr>\n",
       "    <tr>\n",
       "      <th>4</th>\n",
       "      <td>upernavik</td>\n",
       "      <td>GL</td>\n",
       "      <td>72.79</td>\n",
       "      <td>-56.15</td>\n",
       "      <td>35.87</td>\n",
       "      <td>91</td>\n",
       "      <td>100</td>\n",
       "      <td>3.18</td>\n",
       "      <td>1593087974</td>\n",
       "    </tr>\n",
       "    <tr>\n",
       "      <th>5</th>\n",
       "      <td>albany</td>\n",
       "      <td>US</td>\n",
       "      <td>42.60</td>\n",
       "      <td>-73.97</td>\n",
       "      <td>70.00</td>\n",
       "      <td>50</td>\n",
       "      <td>5</td>\n",
       "      <td>3.60</td>\n",
       "      <td>1593087888</td>\n",
       "    </tr>\n",
       "    <tr>\n",
       "      <th>7</th>\n",
       "      <td>khatanga</td>\n",
       "      <td>RU</td>\n",
       "      <td>71.97</td>\n",
       "      <td>102.50</td>\n",
       "      <td>80.78</td>\n",
       "      <td>36</td>\n",
       "      <td>49</td>\n",
       "      <td>9.44</td>\n",
       "      <td>1593087977</td>\n",
       "    </tr>\n",
       "  </tbody>\n",
       "</table>\n",
       "</div>"
      ],
      "text/plain": [
       "              City Country    Lat    Long  Temp (F)  Humidity  Cloudiness  \\\n",
       "City_ID                                                                     \n",
       "1          methoni      GR  36.82   21.70     82.40        51          40   \n",
       "3        jamestown      US  42.10  -79.24     60.80        77          20   \n",
       "4        upernavik      GL  72.79  -56.15     35.87        91         100   \n",
       "5           albany      US  42.60  -73.97     70.00        50           5   \n",
       "7         khatanga      RU  71.97  102.50     80.78        36          49   \n",
       "\n",
       "         Wind Speed        Date  \n",
       "City_ID                          \n",
       "1             13.87  1593087971  \n",
       "3              5.82  1593087973  \n",
       "4              3.18  1593087974  \n",
       "5              3.60  1593087888  \n",
       "7              9.44  1593087977  "
      ]
     },
     "execution_count": 18,
     "metadata": {},
     "output_type": "execute_result"
    }
   ],
   "source": [
    "# Create Northern Hemisphere dataframe\n",
    "north_lats = city_weather_df.loc[city_weather_df[\"Lat\"] > 0]\n",
    "north_lats.head()"
   ]
  },
  {
   "cell_type": "code",
   "execution_count": 19,
   "metadata": {},
   "outputs": [
    {
     "data": {
      "text/html": [
       "<div>\n",
       "<style scoped>\n",
       "    .dataframe tbody tr th:only-of-type {\n",
       "        vertical-align: middle;\n",
       "    }\n",
       "\n",
       "    .dataframe tbody tr th {\n",
       "        vertical-align: top;\n",
       "    }\n",
       "\n",
       "    .dataframe thead th {\n",
       "        text-align: right;\n",
       "    }\n",
       "</style>\n",
       "<table border=\"1\" class=\"dataframe\">\n",
       "  <thead>\n",
       "    <tr style=\"text-align: right;\">\n",
       "      <th></th>\n",
       "      <th>City</th>\n",
       "      <th>Country</th>\n",
       "      <th>Lat</th>\n",
       "      <th>Long</th>\n",
       "      <th>Temp (F)</th>\n",
       "      <th>Humidity</th>\n",
       "      <th>Cloudiness</th>\n",
       "      <th>Wind Speed</th>\n",
       "      <th>Date</th>\n",
       "    </tr>\n",
       "    <tr>\n",
       "      <th>City_ID</th>\n",
       "      <th></th>\n",
       "      <th></th>\n",
       "      <th></th>\n",
       "      <th></th>\n",
       "      <th></th>\n",
       "      <th></th>\n",
       "      <th></th>\n",
       "      <th></th>\n",
       "      <th></th>\n",
       "    </tr>\n",
       "  </thead>\n",
       "  <tbody>\n",
       "    <tr>\n",
       "      <th>2</th>\n",
       "      <td>hermanus</td>\n",
       "      <td>ZA</td>\n",
       "      <td>-34.42</td>\n",
       "      <td>19.23</td>\n",
       "      <td>70.00</td>\n",
       "      <td>54</td>\n",
       "      <td>39</td>\n",
       "      <td>5.99</td>\n",
       "      <td>1593087972</td>\n",
       "    </tr>\n",
       "    <tr>\n",
       "      <th>6</th>\n",
       "      <td>mataura</td>\n",
       "      <td>NZ</td>\n",
       "      <td>-46.19</td>\n",
       "      <td>168.86</td>\n",
       "      <td>39.00</td>\n",
       "      <td>83</td>\n",
       "      <td>0</td>\n",
       "      <td>3.00</td>\n",
       "      <td>1593087976</td>\n",
       "    </tr>\n",
       "    <tr>\n",
       "      <th>8</th>\n",
       "      <td>rikitea</td>\n",
       "      <td>PF</td>\n",
       "      <td>-23.12</td>\n",
       "      <td>-134.97</td>\n",
       "      <td>71.82</td>\n",
       "      <td>75</td>\n",
       "      <td>24</td>\n",
       "      <td>14.85</td>\n",
       "      <td>1593087978</td>\n",
       "    </tr>\n",
       "    <tr>\n",
       "      <th>9</th>\n",
       "      <td>busselton</td>\n",
       "      <td>AU</td>\n",
       "      <td>-33.65</td>\n",
       "      <td>115.33</td>\n",
       "      <td>54.00</td>\n",
       "      <td>88</td>\n",
       "      <td>60</td>\n",
       "      <td>8.86</td>\n",
       "      <td>1593087979</td>\n",
       "    </tr>\n",
       "    <tr>\n",
       "      <th>11</th>\n",
       "      <td>careiro da varzea</td>\n",
       "      <td>BR</td>\n",
       "      <td>-3.20</td>\n",
       "      <td>-59.81</td>\n",
       "      <td>84.20</td>\n",
       "      <td>74</td>\n",
       "      <td>20</td>\n",
       "      <td>2.24</td>\n",
       "      <td>1593087981</td>\n",
       "    </tr>\n",
       "  </tbody>\n",
       "</table>\n",
       "</div>"
      ],
      "text/plain": [
       "                      City Country    Lat    Long  Temp (F)  Humidity  \\\n",
       "City_ID                                                                 \n",
       "2                 hermanus      ZA -34.42   19.23     70.00        54   \n",
       "6                  mataura      NZ -46.19  168.86     39.00        83   \n",
       "8                  rikitea      PF -23.12 -134.97     71.82        75   \n",
       "9                busselton      AU -33.65  115.33     54.00        88   \n",
       "11       careiro da varzea      BR  -3.20  -59.81     84.20        74   \n",
       "\n",
       "         Cloudiness  Wind Speed        Date  \n",
       "City_ID                                      \n",
       "2                39        5.99  1593087972  \n",
       "6                 0        3.00  1593087976  \n",
       "8                24       14.85  1593087978  \n",
       "9                60        8.86  1593087979  \n",
       "11               20        2.24  1593087981  "
      ]
     },
     "execution_count": 19,
     "metadata": {},
     "output_type": "execute_result"
    }
   ],
   "source": [
    "# Create Southern Hemisphere dataframe\n",
    "south_lats = city_weather_df.loc[city_weather_df[\"Lat\"] < 0]\n",
    "len(south_lats)\n",
    "south_lats.head()"
   ]
  },
  {
   "cell_type": "markdown",
   "metadata": {},
   "source": [
    "####  Northern Hemisphere - Max Temp vs. Latitude Linear Regression"
   ]
  },
  {
   "cell_type": "code",
   "execution_count": 20,
   "metadata": {
    "scrolled": true
   },
   "outputs": [
    {
     "data": {
      "image/png": "[encoded data removed]",
      "text/plain": [
       "<Figure size 432x288 with 1 Axes>"
      ]
     },
     "metadata": {
      "needs_background": "light"
     },
     "output_type": "display_data"
    },
    {
     "name": "stdout",
     "output_type": "stream",
     "text": [
      "The correlation coefficent (r-squared) is: 0.407001722053526\n"
     ]
    }
   ],
   "source": [
    "# Linear regression for Northern Hemisphere temperature vs latitude\n",
    "x_values = north_lats[\"Lat\"]\n",
    "y_values = north_lats[\"Temp (F)\"]\n",
    "(slope, intercept, rvalue, pvalue, stderr) = linregress(x_values, y_values)\n",
    "regress_values = x_values * slope + intercept\n",
    "\n",
    "# Linear regression equation string and create plot with labels.\n",
    "line_eq = \"y = \" + str(round(slope,2)) + \"x + \" + str(round(intercept,2))\n",
    "plt.scatter(x_values,y_values, marker=\"o\", facecolors=\"blue\", edgecolors=\"black\")\n",
    "plt.plot(x_values,regress_values,\"r-\")\n",
    "plt.annotate(line_eq,(20,39),fontsize=15,color=\"red\")\n",
    "plt.title(\"Northern Hemisphere Temperature vs Latitude\")\n",
    "plt.xlabel(\"Latitude\")\n",
    "plt.ylabel(\"Max Temperature (F)\")\n",
    "plt.show();\n",
    "\n",
    "print(f\"The correlation coefficent (r-squared) is: {rvalue**2}\")"
   ]
  },
  {
   "cell_type": "markdown",
   "metadata": {},
   "source": [
    "##### * The code runs a linear regression and plots the max temperatures versus latitude of the selected world cities in the Northern Hemisphere. The regression model shows a negative correlation of medium strength (r-squared value of 0.41) indicating that the further a city is away from the Equator, the colder they are (the lower their temperature). "
   ]
  },
  {
   "cell_type": "markdown",
   "metadata": {},
   "source": [
    "####  Southern Hemisphere - Max Temp vs. Latitude Linear Regression"
   ]
  },
  {
   "cell_type": "code",
   "execution_count": 21,
   "metadata": {
    "scrolled": true
   },
   "outputs": [
    {
     "data": {
      "image/png": "[encoded data removed]",
      "text/plain": [
       "<Figure size 432x288 with 1 Axes>"
      ]
     },
     "metadata": {
      "needs_background": "light"
     },
     "output_type": "display_data"
    },
    {
     "name": "stdout",
     "output_type": "stream",
     "text": [
      "The correlation coefficent (r-squared) is: 0.6372772609040056\n"
     ]
    }
   ],
   "source": [
    "# Linear regression for Southern Hemisphere temperature vs latitude\n",
    "x_values = south_lats[\"Lat\"]\n",
    "y_values = south_lats[\"Temp (F)\"]\n",
    "(slope, intercept, rvalue, pvalue, stderr) = linregress(x_values, y_values)\n",
    "regress_values = x_values * slope + intercept\n",
    "\n",
    "# Linear regression equation string and create plot with labels.\n",
    "line_eq = \"y = \" + str(round(slope,2)) + \"x + \" + str(round(intercept,2))\n",
    "plt.scatter(x_values,y_values, marker=\"o\", facecolors=\"blue\", edgecolors=\"black\")\n",
    "plt.plot(x_values,regress_values,\"r-\")\n",
    "plt.annotate(line_eq,(-55,75),fontsize=15,color=\"red\")\n",
    "plt.title(\"Southern Hemisphere Temperature vs Latitude\")\n",
    "plt.xlabel(\"Latitude\")\n",
    "plt.ylabel(\"Max Temperature (F)\")\n",
    "plt.show();\n",
    "\n",
    "print(f\"The correlation coefficent (r-squared) is: {rvalue**2}\")"
   ]
  },
  {
   "cell_type": "markdown",
   "metadata": {},
   "source": [
    "##### * The code runs a linear regression and plots the max temperatures versus latitude of the selected world cities in the Southern Hemisphere. The regression model shows a slightly strong positive correlation  (r-squared value of 0.64) indicating that the closer a city is to the Equator, the hotter they are (the higher their temperature). "
   ]
  },
  {
   "cell_type": "markdown",
   "metadata": {},
   "source": [
    "####  Northern Hemisphere - Humidity (%) vs. Latitude Linear Regression"
   ]
  },
  {
   "cell_type": "code",
   "execution_count": 22,
   "metadata": {
    "scrolled": true
   },
   "outputs": [
    {
     "data": {
      "image/png": "[encoded data removed]",
      "text/plain": [
       "<Figure size 432x288 with 1 Axes>"
      ]
     },
     "metadata": {
      "needs_background": "light"
     },
     "output_type": "display_data"
    },
    {
     "name": "stdout",
     "output_type": "stream",
     "text": [
      "The r-squared is: 0.0006378489933341028\n"
     ]
    }
   ],
   "source": [
    "# Linear regression for Northern Hemisphere humidity vs latitude\n",
    "x_values = north_lats[\"Lat\"]\n",
    "y_values = north_lats[\"Humidity\"]\n",
    "(slope, intercept, rvalue, pvalue, stderr) = linregress(x_values, y_values)\n",
    "regress_values = x_values * slope + intercept\n",
    "\n",
    "# Linear regression equation string and create plot with labels.\n",
    "line_eq = \"y = \" + str(round(slope,2)) + \"x + \" + str(round(intercept,2))\n",
    "plt.scatter(x_values,y_values, marker=\"o\", facecolors=\"blue\", edgecolors=\"black\")\n",
    "plt.plot(x_values,regress_values,\"r-\")\n",
    "plt.annotate(line_eq,(2,40),fontsize=15,color=\"red\")\n",
    "plt.title(\"Northern Hemisphere Humidity vs Latitude\")\n",
    "plt.xlabel(\"Latitude\")\n",
    "plt.ylabel(\"Humidity (%)\")\n",
    "plt.show();\n",
    "\n",
    "print(f\"The r-squared is: {rvalue**2}\")"
   ]
  },
  {
   "cell_type": "markdown",
   "metadata": {},
   "source": [
    "##### * The code runs a linear regression and plots the humidity versus latitude of the selected world cities in the Northern Hemisphere. The regression model shows a very weak negative correlation (r-squared value of 0.0006) indicating that there is almost no correlation between a city's latitudinal location and humidity. "
   ]
  },
  {
   "cell_type": "markdown",
   "metadata": {},
   "source": [
    "####  Southern Hemisphere - Humidity (%) vs. Latitude Linear Regression"
   ]
  },
  {
   "cell_type": "code",
   "execution_count": 23,
   "metadata": {
    "scrolled": true
   },
   "outputs": [
    {
     "data": {
      "image/png": "[encoded data removed]",
      "text/plain": [
       "<Figure size 432x288 with 1 Axes>"
      ]
     },
     "metadata": {
      "needs_background": "light"
     },
     "output_type": "display_data"
    },
    {
     "name": "stdout",
     "output_type": "stream",
     "text": [
      "The r-squared is: 0.006614032082154251\n"
     ]
    }
   ],
   "source": [
    "# Linear regression for Southern Hemisphere humidity vs latitude\n",
    "x_values = south_lats[\"Lat\"]\n",
    "y_values = south_lats[\"Humidity\"]\n",
    "(slope, intercept, rvalue, pvalue, stderr) = linregress(x_values, y_values)\n",
    "regress_values = x_values * slope + intercept\n",
    "\n",
    "# Linear regression equation string and create plot with labels.\n",
    "line_eq = \"y = \" + str(round(slope,2)) + \"x + \" + str(round(intercept,2))\n",
    "plt.scatter(x_values,y_values, marker=\"o\", facecolors=\"blue\", edgecolors=\"black\")\n",
    "plt.plot(x_values,regress_values,\"r-\")\n",
    "plt.annotate(line_eq,(-55,40),fontsize=15,color=\"red\")\n",
    "plt.title(\"Southern Hemisphere Humidity vs Latitude\")\n",
    "plt.xlabel(\"Latitude\")\n",
    "plt.ylabel(\"Humidity (%)\")\n",
    "plt.show();\n",
    "\n",
    "print(f\"The r-squared is: {rvalue**2}\")"
   ]
  },
  {
   "cell_type": "markdown",
   "metadata": {},
   "source": [
    "##### * The code runs a linear regression and plots the humidity versus latitude of the selected world cities in the Southern Hemisphere. The regression model shows a very weak negative correlation (r-squared value of 0.006) indicating that there is almost no correlation between a city's latitudinal location and humidity. "
   ]
  },
  {
   "cell_type": "markdown",
   "metadata": {},
   "source": [
    "####  Northern Hemisphere - Cloudiness (%) vs. Latitude Linear Regression"
   ]
  },
  {
   "cell_type": "code",
   "execution_count": 24,
   "metadata": {
    "scrolled": true
   },
   "outputs": [
    {
     "data": {
      "image/png": "[encoded data removed]",
      "text/plain": [
       "<Figure size 432x288 with 1 Axes>"
      ]
     },
     "metadata": {
      "needs_background": "light"
     },
     "output_type": "display_data"
    },
    {
     "name": "stdout",
     "output_type": "stream",
     "text": [
      "The r-squared is: 0.00016951112935532618\n"
     ]
    }
   ],
   "source": [
    "# Linear regression for Northern Hemisphere cloudiness vs latitude\n",
    "x_values = north_lats[\"Lat\"]\n",
    "y_values = north_lats[\"Cloudiness\"]\n",
    "(slope, intercept, rvalue, pvalue, stderr) = linregress(x_values, y_values)\n",
    "regress_values = x_values * slope + intercept\n",
    "\n",
    "# Linear regression equation string and create plot with labels.\n",
    "line_eq = \"y = \" + str(round(slope,2)) + \"x + \" + str(round(intercept,2))\n",
    "plt.scatter(x_values,y_values, marker=\"o\", facecolors=\"blue\", edgecolors=\"black\")\n",
    "plt.plot(x_values,regress_values,\"r-\")\n",
    "plt.annotate(line_eq,(2,30),fontsize=15,color=\"red\")\n",
    "plt.title(\"Northern Hemisphere Cloudiness vs Latitude\")\n",
    "plt.xlabel(\"Latitude\")\n",
    "plt.ylabel(\"Cloudiness (%)\")\n",
    "plt.show();\n",
    "\n",
    "print(f\"The r-squared is: {rvalue**2}\")"
   ]
  },
  {
   "cell_type": "markdown",
   "metadata": {},
   "source": [
    "##### * The code runs a linear regression and plots the cloudiness versus latitude of the selected world cities in the Northern Hemisphere. The regression model shows a very weak positive correlation (r-squared value of 0.0002) indicating that there is almost no correlation between a city's latitudinal location and its cloudiness. "
   ]
  },
  {
   "cell_type": "markdown",
   "metadata": {},
   "source": [
    "####  Southern Hemisphere - Cloudiness (%) vs. Latitude Linear Regression"
   ]
  },
  {
   "cell_type": "code",
   "execution_count": 25,
   "metadata": {},
   "outputs": [
    {
     "data": {
      "image/png": "[encoded data removed]",
      "text/plain": [
       "<Figure size 432x288 with 1 Axes>"
      ]
     },
     "metadata": {
      "needs_background": "light"
     },
     "output_type": "display_data"
    },
    {
     "name": "stdout",
     "output_type": "stream",
     "text": [
      "The r-squared is: 0.07518438061942934\n"
     ]
    }
   ],
   "source": [
    "# Linear regression for Southern Hemisphere cloudiness vs latitude\n",
    "x_values = south_lats[\"Lat\"]\n",
    "y_values = south_lats[\"Cloudiness\"]\n",
    "(slope, intercept, rvalue, pvalue, stderr) = linregress(x_values, y_values)\n",
    "regress_values = x_values * slope + intercept\n",
    "\n",
    "# Linear regression equation string and create plot with labels.\n",
    "line_eq = \"y = \" + str(round(slope,2)) + \"x + \" + str(round(intercept,2))\n",
    "plt.scatter(x_values,y_values, marker=\"o\", facecolors=\"blue\", edgecolors=\"black\")\n",
    "plt.plot(x_values,regress_values,\"r-\")\n",
    "plt.annotate(line_eq,(-55,30),fontsize=15,color=\"red\")\n",
    "plt.title(\"Northern Hemisphere Cloudiness vs Latitude\")\n",
    "plt.xlabel(\"Latitude\")\n",
    "plt.ylabel(\"Cloudiness (%)\")\n",
    "plt.show();\n",
    "\n",
    "print(f\"The r-squared is: {rvalue**2}\")"
   ]
  },
  {
   "cell_type": "markdown",
   "metadata": {},
   "source": [
    "##### * The code runs a linear regression and plots the cloudiness versus latitude of the selected world cities in the Southern Hemisphere. The regression model shows a weak positive correlation (r-squared value of 0.08) indicating that there is almost no correlation between a city's latitudinal location and its cloudiness. "
   ]
  },
  {
   "cell_type": "markdown",
   "metadata": {},
   "source": [
    "####  Northern Hemisphere - Wind Speed (mph) vs. Latitude Linear Regression"
   ]
  },
  {
   "cell_type": "code",
   "execution_count": 26,
   "metadata": {
    "scrolled": true
   },
   "outputs": [
    {
     "data": {
      "image/png": "[encoded data removed]",
      "text/plain": [
       "<Figure size 432x288 with 1 Axes>"
      ]
     },
     "metadata": {
      "needs_background": "light"
     },
     "output_type": "display_data"
    },
    {
     "name": "stdout",
     "output_type": "stream",
     "text": [
      "The r-squared is: 0.009529412577974324\n"
     ]
    }
   ],
   "source": [
    "# Linear regression for Northern Hemisphere wind speed vs latitude\n",
    "x_values = north_lats[\"Lat\"]\n",
    "y_values = north_lats[\"Wind Speed\"]\n",
    "(slope, intercept, rvalue, pvalue, stderr) = linregress(x_values, y_values)\n",
    "regress_values = x_values * slope + intercept\n",
    "\n",
    "# Linear regression equation string and create plot with labels.\n",
    "line_eq = \"y = \" + str(round(slope,2)) + \"x + \" + str(round(intercept,2))\n",
    "plt.scatter(x_values,y_values, marker=\"o\", facecolors=\"blue\", edgecolors=\"black\")\n",
    "plt.plot(x_values,regress_values,\"r-\")\n",
    "plt.annotate(line_eq,(5,20),fontsize=15,color=\"red\")\n",
    "plt.title(\"Northern Hemisphere Wind Speed vs Latitude\")\n",
    "plt.xlabel(\"Latitude\")\n",
    "plt.ylabel(\"Wind Speed (mph)\")\n",
    "plt.show();\n",
    "\n",
    "print(f\"The r-squared is: {rvalue**2}\")"
   ]
  },
  {
   "cell_type": "markdown",
   "metadata": {},
   "source": [
    "##### * The code runs a linear regression and plots the wind speed versus latitude of the selected world cities in the Northern Hemisphere. The regression model shows a very weak negative correlation (r-squared value of 0.01) indicating that there is almost no correlation between a city's latitudinal location and its wind speed. "
   ]
  },
  {
   "cell_type": "markdown",
   "metadata": {},
   "source": [
    "####  Southern Hemisphere - Wind Speed (mph) vs. Latitude Linear Regression"
   ]
  },
  {
   "cell_type": "code",
   "execution_count": 27,
   "metadata": {
    "scrolled": true
   },
   "outputs": [
    {
     "data": {
      "image/png": "[encoded data removed]",
      "text/plain": [
       "<Figure size 432x288 with 1 Axes>"
      ]
     },
     "metadata": {
      "needs_background": "light"
     },
     "output_type": "display_data"
    },
    {
     "name": "stdout",
     "output_type": "stream",
     "text": [
      "The r-squared is: 0.000655689849912942\n"
     ]
    }
   ],
   "source": [
    "# Linear regression for Southern Hemisphere wind speed vs latitude\n",
    "x_values = south_lats[\"Lat\"]\n",
    "y_values = south_lats[\"Wind Speed\"]\n",
    "(slope, intercept, rvalue, pvalue, stderr) = linregress(x_values, y_values)\n",
    "regress_values = x_values * slope + intercept\n",
    "\n",
    "# Linear regression equation string and create plot with labels.\n",
    "line_eq = \"y = \" + str(round(slope,2)) + \"x + \" + str(round(intercept,2))\n",
    "plt.scatter(x_values,y_values, marker=\"o\", facecolors=\"blue\", edgecolors=\"black\")\n",
    "plt.plot(x_values,regress_values,\"r-\")\n",
    "plt.annotate(line_eq,(-55,15),fontsize=15,color=\"red\")\n",
    "plt.title(\"Northern Hemisphere Wind Speed vs Latitude\")\n",
    "plt.xlabel(\"Latitude\")\n",
    "plt.ylabel(\"Wind Speed (mph)\")\n",
    "plt.show();\n",
    "\n",
    "print(f\"The r-squared is: {rvalue**2}\")"
   ]
  },
  {
   "cell_type": "markdown",
   "metadata": {},
   "source": [
    "##### * The code runs a linear regression and plots the wind speed versus latitude of the selected world cities in the Southern Hemisphere. The regression model shows a very weak positive correlation (r-squared value of 0.0007) indicating that there is almost no correlation between a city's latitudinal location and its wind speed. "
   ]
  }
 ],
 "metadata": {
  "anaconda-cloud": {},
  "kernel_info": {
   "name": "python3"
  },
  "kernelspec": {
   "display_name": "Python 3",
   "language": "python",
   "name": "python3"
  },
  "language_info": {
   "codemirror_mode": {
    "name": "ipython",
    "version": 3
   },
   "file_extension": ".py",
   "mimetype": "text/x-python",
   "name": "python",
   "nbconvert_exporter": "python",
   "pygments_lexer": "ipython3",
   "version": "3.7.6"
  },
  "latex_envs": {
   "LaTeX_envs_menu_present": true,
   "autoclose": false,
   "autocomplete": true,
   "bibliofile": "biblio.bib",
   "cite_by": "apalike",
   "current_citInitial": 1,
   "eqLabelWithNumbers": true,
   "eqNumInitial": 1,
   "hotkeys": {
    "equation": "Ctrl-E",
    "itemize": "Ctrl-I"
   },
   "labels_anchors": false,
   "latex_user_defs": false,
   "report_style_numbering": false,
   "user_envs_cfg": false
  },
  "nteract": {
   "version": "0.12.3"
  }
 },
 "nbformat": 4,
 "nbformat_minor": 2
}
